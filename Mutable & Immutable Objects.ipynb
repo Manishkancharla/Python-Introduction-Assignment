{
 "cells": [
  {
   "cell_type": "markdown",
   "id": "5bebdf30-d16a-4555-8c57-f67d6f7e5224",
   "metadata": {},
   "source": [
    "Mutability :- The value of container are changed after created is known as the mutability. \n",
    "                  eg :- List, Sets and Dictionaries are mutable."
   ]
  },
  {
   "cell_type": "code",
   "execution_count": 6,
   "id": "2bd4c182-3c61-4def-af0d-7085e5a8b9c1",
   "metadata": {},
   "outputs": [
    {
     "name": "stdout",
     "output_type": "stream",
     "text": [
      "[1, 2, 3, 'South Korea', 'Manish', (3+6j)]\n"
     ]
    }
   ],
   "source": [
    "#\"List\" Type \n",
    "a = [1, 2, 3, \"India\", \"Manish\", 3+6j]\n",
    "a[3] = \"South Korea\"\n",
    "print(a)"
   ]
  },
  {
   "cell_type": "code",
   "execution_count": 7,
   "id": "b1c88e04-6ae4-49b9-83dd-3b9057d693f7",
   "metadata": {},
   "outputs": [
    {
     "name": "stdout",
     "output_type": "stream",
     "text": [
      "{'Manish', 2, 'India', 1, (3+6j)}\n"
     ]
    }
   ],
   "source": [
    "#\"Set\" Type\n",
    "a = {\"India\", \"Manish\", 1, 2, 3, 3+6j}\n",
    "a.remove(3)\n",
    "print(a)"
   ]
  },
  {
   "cell_type": "code",
   "execution_count": 8,
   "id": "e09b05a1-535c-4101-85f0-fdf0a524662d",
   "metadata": {},
   "outputs": [
    {
     "name": "stdout",
     "output_type": "stream",
     "text": [
      "{'India': 25, 'South Korea': 5}\n"
     ]
    }
   ],
   "source": [
    "#\"Dictionary\" Type\n",
    "World = {\"India\" : 25 , \"South Korea\" : 4}\n",
    "World[\"South Korea\"] = 5\n",
    "print(World)"
   ]
  },
  {
   "cell_type": "markdown",
   "id": "02cb8a96-a6a2-4035-b2e8-22b83a912889",
   "metadata": {},
   "source": [
    "Immutability :- The value of container can't able to change after created is known as the immutability.\n",
    "                  eg :- String, Tuples are immutable."
   ]
  },
  {
   "cell_type": "code",
   "execution_count": 9,
   "id": "9b73d9bb-6a33-4c22-b0cd-bfbd0be9af7b",
   "metadata": {},
   "outputs": [
    {
     "ename": "SyntaxError",
     "evalue": "cannot assign to function call here. Maybe you meant '==' instead of '='? (2956848255.py, line 3)",
     "output_type": "error",
     "traceback": [
      "\u001b[0;36m  Cell \u001b[0;32mIn[9], line 3\u001b[0;36m\u001b[0m\n\u001b[0;31m    a(0) = \"M\"\u001b[0m\n\u001b[0m    ^\u001b[0m\n\u001b[0;31mSyntaxError\u001b[0m\u001b[0;31m:\u001b[0m cannot assign to function call here. Maybe you meant '==' instead of '='?\n"
     ]
    }
   ],
   "source": [
    "#\"String\" Type\n",
    "a = \"India\"\n",
    "a(0) = \"M\"\n",
    "print(a)"
   ]
  },
  {
   "cell_type": "code",
   "execution_count": 10,
   "id": "43798f6d-e533-4380-a0b5-a527299ba6a4",
   "metadata": {},
   "outputs": [
    {
     "ename": "TypeError",
     "evalue": "'tuple' object does not support item assignment",
     "output_type": "error",
     "traceback": [
      "\u001b[0;31m---------------------------------------------------------------------------\u001b[0m",
      "\u001b[0;31mTypeError\u001b[0m                                 Traceback (most recent call last)",
      "Cell \u001b[0;32mIn[10], line 3\u001b[0m\n\u001b[1;32m      1\u001b[0m \u001b[38;5;66;03m#\"Tuple\" Type\u001b[39;00m\n\u001b[1;32m      2\u001b[0m a \u001b[38;5;241m=\u001b[39m (\u001b[38;5;241m1\u001b[39m, \u001b[38;5;241m2\u001b[39m, \u001b[38;5;241m3\u001b[39m, \u001b[38;5;124m\"\u001b[39m\u001b[38;5;124mManish\u001b[39m\u001b[38;5;124m\"\u001b[39m, \u001b[38;5;124m\"\u001b[39m\u001b[38;5;124mPeace full End\u001b[39m\u001b[38;5;124m\"\u001b[39m, \u001b[38;5;241m12\u001b[39m\u001b[38;5;241m+\u001b[39m\u001b[38;5;241m6\u001b[39mj)\n\u001b[0;32m----> 3\u001b[0m \u001b[43ma\u001b[49m\u001b[43m[\u001b[49m\u001b[38;5;241;43m1\u001b[39;49m\u001b[43m]\u001b[49m \u001b[38;5;241m=\u001b[39m \u001b[38;5;241m4\u001b[39m\n\u001b[1;32m      4\u001b[0m \u001b[38;5;28mprint\u001b[39m(a)\n",
      "\u001b[0;31mTypeError\u001b[0m: 'tuple' object does not support item assignment"
     ]
    }
   ],
   "source": [
    "#\"Tuple\" Type\n",
    "a = (1, 2, 3, \"Manish\", \"Peace full End\", 12+6j)\n",
    "a[1] = 4\n",
    "print(a)"
   ]
  },
  {
   "cell_type": "code",
   "execution_count": null,
   "id": "c4ee5dbb-90eb-4749-9a07-8bced4c94415",
   "metadata": {},
   "outputs": [],
   "source": []
  },
  {
   "cell_type": "code",
   "execution_count": null,
   "id": "fe9a25d1-7ce6-48c4-b035-8268d434a676",
   "metadata": {},
   "outputs": [],
   "source": []
  }
 ],
 "metadata": {
  "kernelspec": {
   "display_name": "Python 3 (ipykernel)",
   "language": "python",
   "name": "python3"
  },
  "language_info": {
   "codemirror_mode": {
    "name": "ipython",
    "version": 3
   },
   "file_extension": ".py",
   "mimetype": "text/x-python",
   "name": "python",
   "nbconvert_exporter": "python",
   "pygments_lexer": "ipython3",
   "version": "3.10.8"
  }
 },
 "nbformat": 4,
 "nbformat_minor": 5
}
