{
 "cells": [
  {
   "cell_type": "markdown",
   "id": "722b2527-0b4a-4ffb-8eec-07f266fc2610",
   "metadata": {},
   "source": [
    "Definition :- Keywords of python is used to define the syntax of the coding.\n",
    "-> The inbuilt keywords are \"Interger(int), Float, String(str), Complex Number, Boolean Expression\"\n",
    "-> Till present there are 36 types of keywords are there. We will see what are they"
   ]
  },
  {
   "cell_type": "code",
   "execution_count": 28,
   "id": "f571dff8-a58d-4527-89fc-f4e342e8509c",
   "metadata": {},
   "outputs": [
    {
     "name": "stdout",
     "output_type": "stream",
     "text": [
      "18\n"
     ]
    },
    {
     "data": {
      "text/plain": [
       "int"
      ]
     },
     "execution_count": 28,
     "metadata": {},
     "output_type": "execute_result"
    }
   ],
   "source": [
    "#\"Integer\" Keyword\n",
    "a = 18\n",
    "print(a)\n",
    "type(a) #tyep >> keyword is used to check the type object"
   ]
  },
  {
   "cell_type": "code",
   "execution_count": 29,
   "id": "34a3ed8a-e797-4cbe-b949-9a7c10bb2245",
   "metadata": {},
   "outputs": [
    {
     "name": "stdout",
     "output_type": "stream",
     "text": [
      "72.4\n"
     ]
    },
    {
     "data": {
      "text/plain": [
       "float"
      ]
     },
     "execution_count": 29,
     "metadata": {},
     "output_type": "execute_result"
    }
   ],
   "source": [
    "#\"Float\" Keyword\n",
    "a = 72.4\n",
    "print(a)\n",
    "type(a)"
   ]
  },
  {
   "cell_type": "code",
   "execution_count": 30,
   "id": "307858ce-c7f1-43cb-bc7a-d8bf4600e696",
   "metadata": {},
   "outputs": [
    {
     "name": "stdout",
     "output_type": "stream",
     "text": [
      "Manish\n"
     ]
    },
    {
     "data": {
      "text/plain": [
       "str"
      ]
     },
     "execution_count": 30,
     "metadata": {},
     "output_type": "execute_result"
    }
   ],
   "source": [
    "#\"String\" Keyword\n",
    "a = \"Manish\"\n",
    "print(a)\n",
    "type(a)"
   ]
  },
  {
   "cell_type": "code",
   "execution_count": 31,
   "id": "24b865f9-6d74-4bd6-96db-bcddbb94e60e",
   "metadata": {},
   "outputs": [
    {
     "name": "stdout",
     "output_type": "stream",
     "text": [
      "(18+6j)\n"
     ]
    },
    {
     "data": {
      "text/plain": [
       "complex"
      ]
     },
     "execution_count": 31,
     "metadata": {},
     "output_type": "execute_result"
    }
   ],
   "source": [
    "#\"Complex Integer\" Keyword\n",
    "a = 18+6j\n",
    "print(a)\n",
    "type(a)"
   ]
  },
  {
   "cell_type": "code",
   "execution_count": 32,
   "id": "4d965b2e-3a17-44ba-89a1-197cd5057b58",
   "metadata": {},
   "outputs": [
    {
     "data": {
      "text/plain": [
       "True"
      ]
     },
     "execution_count": 32,
     "metadata": {},
     "output_type": "execute_result"
    }
   ],
   "source": [
    "#\"Boolean\" Keyword\n",
    "bool(18) #The boolean gives \"True\" if there is \"1\" rather thamm \"0\""
   ]
  },
  {
   "cell_type": "code",
   "execution_count": 33,
   "id": "9804851e-8ae7-4332-b031-ae8e2cc45347",
   "metadata": {},
   "outputs": [
    {
     "data": {
      "text/plain": [
       "False"
      ]
     },
     "execution_count": 33,
     "metadata": {},
     "output_type": "execute_result"
    }
   ],
   "source": [
    "bool(0) #The boolean gives \"False\" only if there is \"0\""
   ]
  },
  {
   "cell_type": "code",
   "execution_count": 34,
   "id": "e6d4d0f5-10f6-4579-aa4d-beae96a497de",
   "metadata": {},
   "outputs": [
    {
     "name": "stdout",
     "output_type": "stream",
     "text": [
      "\n",
      "Here is a list of the Python keywords.  Enter any keyword to get more help.\n",
      "\n",
      "False               class               from                or\n",
      "None                continue            global              pass\n",
      "True                def                 if                  raise\n",
      "and                 del                 import              return\n",
      "as                  elif                in                  try\n",
      "assert              else                is                  while\n",
      "async               except              lambda              with\n",
      "await               finally             nonlocal            yield\n",
      "break               for                 not                 \n",
      "\n"
     ]
    }
   ],
   "source": [
    "#It is for knowing that what type of keywords are there\n",
    "help(\"keywords\") #help >> Is used to know the objects of the particular characteristic"
   ]
  },
  {
   "cell_type": "markdown",
   "id": "9d4f6b4e-7a06-47b4-8e05-54456fab16bd",
   "metadata": {},
   "source": [
    "-> Now we will see usage of the some keywords"
   ]
  },
  {
   "cell_type": "code",
   "execution_count": 35,
   "id": "4b74bb4b-6742-4bc9-b21b-b6b507a13a3d",
   "metadata": {},
   "outputs": [
    {
     "data": {
      "text/plain": [
       "True"
      ]
     },
     "execution_count": 35,
     "metadata": {},
     "output_type": "execute_result"
    }
   ],
   "source": [
    "#\"in\" keyword\n",
    "a = [1,2,3,4,5]\n",
    "b = 3\n",
    "b in a"
   ]
  },
  {
   "cell_type": "code",
   "execution_count": 36,
   "id": "6ce56f2d-2899-4edd-abfe-ded91f158fe8",
   "metadata": {},
   "outputs": [
    {
     "data": {
      "text/plain": [
       "False"
      ]
     },
     "execution_count": 36,
     "metadata": {},
     "output_type": "execute_result"
    }
   ],
   "source": [
    "#\"is\" keyword\n",
    "a = \"Manish\"\n",
    "b = \"Kancharla\" \n",
    "a is b "
   ]
  },
  {
   "cell_type": "code",
   "execution_count": 37,
   "id": "b944b03b-76c5-4a7d-b717-1a70549624ce",
   "metadata": {},
   "outputs": [
    {
     "name": "stdout",
     "output_type": "stream",
     "text": [
      "The condition is satisfied\n"
     ]
    }
   ],
   "source": [
    "#\"if\" keyword\n",
    "a = 18\n",
    "b = 6\n",
    "if a > b:\n",
    "    print(\"The condition is satisfied\")"
   ]
  },
  {
   "cell_type": "code",
   "execution_count": 38,
   "id": "891fbb90-a71c-484e-bcc6-ae32b092b097",
   "metadata": {},
   "outputs": [
    {
     "name": "stdout",
     "output_type": "stream",
     "text": [
      "1\n",
      "2\n",
      "3\n",
      "4\n",
      "5\n",
      "6\n"
     ]
    }
   ],
   "source": [
    "#\"for\" keyword\n",
    "a = [1,2,3,4,5,6]\n",
    "for i in a:\n",
    "    print(i)"
   ]
  },
  {
   "cell_type": "code",
   "execution_count": 39,
   "id": "c7387e37-752a-40c6-a9cb-8d17c7a99e9a",
   "metadata": {},
   "outputs": [
    {
     "name": "stdout",
     "output_type": "stream",
     "text": [
      "Not Good\n"
     ]
    }
   ],
   "source": [
    "#\"else\" keyword\n",
    "a = 18\n",
    "b = 6\n",
    "if a < b:\n",
    "    print(\"All Good\")\n",
    "else:\n",
    "    print(\"Not Good\")"
   ]
  },
  {
   "cell_type": "code",
   "execution_count": null,
   "id": "0441ad1f-6019-4752-8e2e-92299ab7ca9d",
   "metadata": {},
   "outputs": [],
   "source": []
  },
  {
   "cell_type": "code",
   "execution_count": null,
   "id": "d719a86f-b757-436a-bad6-b50db319f013",
   "metadata": {},
   "outputs": [],
   "source": []
  },
  {
   "cell_type": "code",
   "execution_count": null,
   "id": "3d61d8a8-a03f-439b-825e-4746437f8575",
   "metadata": {},
   "outputs": [],
   "source": []
  }
 ],
 "metadata": {
  "kernelspec": {
   "display_name": "Python 3 (ipykernel)",
   "language": "python",
   "name": "python3"
  },
  "language_info": {
   "codemirror_mode": {
    "name": "ipython",
    "version": 3
   },
   "file_extension": ".py",
   "mimetype": "text/x-python",
   "name": "python",
   "nbconvert_exporter": "python",
   "pygments_lexer": "ipython3",
   "version": "3.10.8"
  }
 },
 "nbformat": 4,
 "nbformat_minor": 5
}
