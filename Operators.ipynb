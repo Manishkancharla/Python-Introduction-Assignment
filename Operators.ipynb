{
 "cells": [
  {
   "cell_type": "raw",
   "id": "18d8faa6-cdcc-4986-9ff9-0cc1217a7577",
   "metadata": {},
   "source": [
    "Operators :- It is a special keyword which is used to manage and computation the data.\n",
    "-> There are 8 types of operators"
   ]
  },
  {
   "cell_type": "raw",
   "id": "afc708ee-ef29-4ff4-8fd0-dac4c0d053c9",
   "metadata": {},
   "source": [
    "i) Assignment Operator :- It is a mathematical Operation it means it solves mathematical calculations. It follows\n",
    "                               a) Addition(+)\n",
    "                               b) Substraction(-)\n",
    "                               c) Multiplication(*(Astric))\n",
    "                               d) Division(/)\n",
    "                               e) Modulus(%)\n",
    "                               f) Power(**)\n",
    "                               g) Floor(//)"
   ]
  },
  {
   "cell_type": "code",
   "execution_count": 2,
   "id": "b6860c7b-d790-4a35-9e98-33457349588f",
   "metadata": {},
   "outputs": [
    {
     "name": "stdout",
     "output_type": "stream",
     "text": [
      "24\n",
      "12\n",
      "108\n",
      "3.0\n",
      "0\n",
      "34012224\n",
      "3\n"
     ]
    }
   ],
   "source": [
    "a = 18\n",
    "b = 6\n",
    "print(a+b)\n",
    "print(a-b)\n",
    "print(a*b)\n",
    "print(a/b)\n",
    "print(a%b)\n",
    "print(a**b)\n",
    "print(a//b)"
   ]
  },
  {
   "cell_type": "markdown",
   "id": "0f6db2fc-2adf-4b91-82f6-bed7a54e7b4d",
   "metadata": {},
   "source": [
    "ii) Comparison Operator :- It observes two values and provides boolean expression\n",
    "                                a) Equals to(==)\n",
    "                                b) Not Equal to(!=)\n",
    "                                c) Less than(<)\n",
    "                                d) Greater than(>)\n",
    "                                e) Less than equal to(<=)\n",
    "                                f) Greater than equal to(>=)"
   ]
  },
  {
   "cell_type": "code",
   "execution_count": 3,
   "id": "72342984-459a-4f68-915c-ebbfac8132cd",
   "metadata": {},
   "outputs": [
    {
     "name": "stdout",
     "output_type": "stream",
     "text": [
      "False\n",
      "True\n",
      "False\n",
      "True\n",
      "False\n",
      "True\n"
     ]
    }
   ],
   "source": [
    "a = 25\n",
    "b = 5\n",
    "print(a==b)\n",
    "print(a!=b)\n",
    "print(a<b)\n",
    "print(a>b)\n",
    "print(a<=b)\n",
    "print(a>=b)"
   ]
  },
  {
   "cell_type": "markdown",
   "id": "47eca872-5d90-4b48-b366-84b89cac95d6",
   "metadata": {},
   "source": [
    "iii) Logical Operator :- There are three types\n",
    "                          a) AND\n",
    "                          b) OR\n",
    "                          C) NOT"
   ]
  },
  {
   "cell_type": "code",
   "execution_count": 11,
   "id": "9400cbe3-57f2-404a-8014-ad47fa25ba0e",
   "metadata": {},
   "outputs": [
    {
     "name": "stdout",
     "output_type": "stream",
     "text": [
      "2024\n",
      "2002\n",
      "False\n"
     ]
    }
   ],
   "source": [
    "a = 2002\n",
    "b = 2024\n",
    "print(a and b)\n",
    "print(a or b)\n",
    "print(not b)"
   ]
  },
  {
   "cell_type": "markdown",
   "id": "47528b33-d04b-4260-9705-a299f4128c47",
   "metadata": {},
   "source": [
    "iv) Assignment Operator :- It explains assigning value to the variable \n",
    "                                 a) Addition equal to(+=)\n",
    "                                 b) Substraction equal to(-=)\n",
    "                                 c) Multiplication equal to(*=)\n",
    "                                 d) Division equal to(/=)"
   ]
  },
  {
   "cell_type": "code",
   "execution_count": 22,
   "id": "87874b4e-1425-4dd4-b579-acd5ab99cea1",
   "metadata": {},
   "outputs": [
    {
     "name": "stdout",
     "output_type": "stream",
     "text": [
      "24\n"
     ]
    }
   ],
   "source": [
    "a = 18\n",
    "a+=6\n",
    "print(a)\n"
   ]
  },
  {
   "cell_type": "code",
   "execution_count": 26,
   "id": "0c3fa301-11ee-4ca9-9dd0-08aa52daa333",
   "metadata": {},
   "outputs": [
    {
     "name": "stdout",
     "output_type": "stream",
     "text": [
      "6.0\n"
     ]
    }
   ],
   "source": [
    "a-=12\n",
    "print(a)"
   ]
  },
  {
   "cell_type": "code",
   "execution_count": 27,
   "id": "56271c90-9407-42ca-bd5e-d6ef8714f7eb",
   "metadata": {},
   "outputs": [
    {
     "name": "stdout",
     "output_type": "stream",
     "text": [
      "156.0\n"
     ]
    }
   ],
   "source": [
    "a*=26\n",
    "print(a)"
   ]
  },
  {
   "cell_type": "code",
   "execution_count": 28,
   "id": "56552cc8-29df-4761-a8ab-5e578f7468a2",
   "metadata": {},
   "outputs": [
    {
     "name": "stdout",
     "output_type": "stream",
     "text": [
      "78.0\n"
     ]
    }
   ],
   "source": [
    "a/=2\n",
    "print(a)"
   ]
  },
  {
   "cell_type": "markdown",
   "id": "d09eb39d-863d-468f-ac82-2b9034639a42",
   "metadata": {},
   "source": [
    "v) Membership Operator :- There are two types\n",
    "                               a) In \n",
    "                               b) Not In "
   ]
  },
  {
   "cell_type": "code",
   "execution_count": 29,
   "id": "073e2593-05b4-43be-b1b6-26a8f625aefc",
   "metadata": {},
   "outputs": [
    {
     "data": {
      "text/plain": [
       "True"
      ]
     },
     "execution_count": 29,
     "metadata": {},
     "output_type": "execute_result"
    }
   ],
   "source": [
    "a = \"Manish\"\n",
    "\"i\" in a"
   ]
  },
  {
   "cell_type": "code",
   "execution_count": 30,
   "id": "422d3b8d-b49a-4873-b957-2be04337209b",
   "metadata": {},
   "outputs": [
    {
     "data": {
      "text/plain": [
       "False"
      ]
     },
     "execution_count": 30,
     "metadata": {},
     "output_type": "execute_result"
    }
   ],
   "source": [
    "\"n\" not in a"
   ]
  },
  {
   "cell_type": "markdown",
   "id": "d5d6a06e-cce1-4646-9b56-547ecd5c9026",
   "metadata": {},
   "source": [
    "vi) Identity Operator :- There are two types\n",
    "                              a) is\n",
    "                              b) is not"
   ]
  },
  {
   "cell_type": "code",
   "execution_count": 31,
   "id": "c6ace35c-0f16-4ad1-84ac-3e408ce992c5",
   "metadata": {},
   "outputs": [
    {
     "data": {
      "text/plain": [
       "False"
      ]
     },
     "execution_count": 31,
     "metadata": {},
     "output_type": "execute_result"
    }
   ],
   "source": [
    "a = 18\n",
    "b = 6\n",
    "a is b"
   ]
  },
  {
   "cell_type": "code",
   "execution_count": 32,
   "id": "1d29c796-c5c1-48bd-9c20-adb608791f77",
   "metadata": {},
   "outputs": [
    {
     "data": {
      "text/plain": [
       "True"
      ]
     },
     "execution_count": 32,
     "metadata": {},
     "output_type": "execute_result"
    }
   ],
   "source": [
    "a is not b"
   ]
  },
  {
   "cell_type": "markdown",
   "id": "7bd5b9c2-ca64-4842-a043-6b645087fcd7",
   "metadata": {},
   "source": [
    "vii) Bitwise Operator :- It explains operations at bit level\n",
    "                              a) &(AND)\n",
    "                              b) |(OR)\n",
    "                              c) ~(Tilda(Negation))\n",
    "                              d) ^(XOR)\n"
   ]
  },
  {
   "cell_type": "code",
   "execution_count": 34,
   "id": "f9488496-9a88-44b2-8b5c-a06c7ea8444b",
   "metadata": {},
   "outputs": [
    {
     "name": "stdout",
     "output_type": "stream",
     "text": [
      "2\n",
      "22\n",
      "-7\n",
      "20\n"
     ]
    }
   ],
   "source": [
    "a = 18\n",
    "b = 6\n",
    "print(a & b)\n",
    "print(a|b)\n",
    "print(~b)\n",
    "print(a^b)"
   ]
  },
  {
   "cell_type": "markdown",
   "id": "55692ddd-e02b-4909-b668-332f4f6ff596",
   "metadata": {},
   "source": [
    "viii) Shift Operator :- There are two types\n",
    "                           a) Left Shift(<<)\n",
    "                           b) Right Shift(>>)"
   ]
  },
  {
   "cell_type": "code",
   "execution_count": 36,
   "id": "866cb6dd-75fd-4eb0-95fc-7bd25eeb8df2",
   "metadata": {},
   "outputs": [
    {
     "name": "stdout",
     "output_type": "stream",
     "text": [
      "1152\n",
      "0\n"
     ]
    }
   ],
   "source": [
    "a = 18\n",
    "b = 6\n",
    "print(a<<b)\n",
    "print(a>>b)"
   ]
  }
 ],
 "metadata": {
  "kernelspec": {
   "display_name": "Python 3 (ipykernel)",
   "language": "python",
   "name": "python3"
  },
  "language_info": {
   "codemirror_mode": {
    "name": "ipython",
    "version": 3
   },
   "file_extension": ".py",
   "mimetype": "text/x-python",
   "name": "python",
   "nbconvert_exporter": "python",
   "pygments_lexer": "ipython3",
   "version": "3.10.8"
  }
 },
 "nbformat": 4,
 "nbformat_minor": 5
}
