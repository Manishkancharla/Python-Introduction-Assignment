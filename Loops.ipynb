{
 "cells": [
  {
   "cell_type": "markdown",
   "id": "31ac0a6b-7ca5-45f0-9b5b-179232fc8c08",
   "metadata": {},
   "source": [
    "Loop Statements :- It allows you to execute a block of code repeatedly. There are two types that follows"
   ]
  },
  {
   "cell_type": "code",
   "execution_count": 2,
   "id": "c15e791a-14d8-4c28-b096-a7765dc1ad63",
   "metadata": {},
   "outputs": [
    {
     "name": "stdout",
     "output_type": "stream",
     "text": [
      "M a n i s h   K a n c h a r l a "
     ]
    }
   ],
   "source": [
    "# i) For Loop :- It iterate over a sequence of elements from String and List.\n",
    "a = \"Manish Kancharla\"\n",
    "for i in a:\n",
    "    print(i, end = \" \")"
   ]
  },
  {
   "cell_type": "code",
   "execution_count": 3,
   "id": "69e920bf-6797-49e9-9d40-ba04c5141ca3",
   "metadata": {},
   "outputs": [
    {
     "name": "stdout",
     "output_type": "stream",
     "text": [
      "1\n",
      "2\n",
      "South Korea\n",
      "India\n"
     ]
    }
   ],
   "source": [
    "b = [1, 2, \"South Korea\", \"India\"]\n",
    "for i in b:\n",
    "    print(i)"
   ]
  },
  {
   "cell_type": "code",
   "execution_count": 5,
   "id": "ea5b4ac2-e049-42ca-803b-2fa76a1f0fbe",
   "metadata": {},
   "outputs": [
    {
     "name": "stdout",
     "output_type": "stream",
     "text": [
      "5\n",
      "4\n",
      "3\n",
      "2\n",
      "1\n"
     ]
    }
   ],
   "source": [
    "# ii) While Loop :- It is a control flow statement repeatedly executed the code until the condition is met\n",
    "South_Korea = 5\n",
    "while South_Korea > 0:\n",
    "    print(South_Korea)\n",
    "    South_Korea = South_Korea - 1"
   ]
  },
  {
   "cell_type": "code",
   "execution_count": null,
   "id": "2222f24a-b8c5-4795-bc33-01dd019da097",
   "metadata": {},
   "outputs": [],
   "source": []
  }
 ],
 "metadata": {
  "kernelspec": {
   "display_name": "Python 3 (ipykernel)",
   "language": "python",
   "name": "python3"
  },
  "language_info": {
   "codemirror_mode": {
    "name": "ipython",
    "version": 3
   },
   "file_extension": ".py",
   "mimetype": "text/x-python",
   "name": "python",
   "nbconvert_exporter": "python",
   "pygments_lexer": "ipython3",
   "version": "3.10.8"
  }
 },
 "nbformat": 4,
 "nbformat_minor": 5
}
