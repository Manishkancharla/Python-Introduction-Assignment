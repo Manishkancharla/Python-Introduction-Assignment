{
 "cells": [
  {
   "cell_type": "markdown",
   "id": "9b00a10e-54ac-4356-98f0-efa35e9bd237",
   "metadata": {},
   "source": [
    "Type Casting :- It is a process of changing the data type of a value/object. They are twi types\n"
   ]
  },
  {
   "cell_type": "markdown",
   "id": "ce5c5478-e24f-4a4e-82b6-832b97730282",
   "metadata": {},
   "source": [
    "i) Implicit Type Casting :- The python understand the data type very easily by itself "
   ]
  },
  {
   "cell_type": "code",
   "execution_count": 3,
   "id": "2d3edb2f-6923-416d-ae6a-67174c40f95d",
   "metadata": {},
   "outputs": [
    {
     "name": "stdout",
     "output_type": "stream",
     "text": [
      "5.5\n"
     ]
    }
   ],
   "source": [
    "a = 2\n",
    "b = 3.5\n",
    "print(a+b)"
   ]
  },
  {
   "cell_type": "markdown",
   "id": "97b25d9f-ed0f-426e-be21-25d8bf523f2e",
   "metadata": {},
   "source": [
    "ii) Explicit Type Casting :- The converting string to float (or) string to integer, integer to string (or) integer to float"
   ]
  },
  {
   "cell_type": "code",
   "execution_count": 1,
   "id": "ac90bbb4-ddd4-4120-ab4c-c626312ae387",
   "metadata": {},
   "outputs": [
    {
     "ename": "TypeError",
     "evalue": "can only concatenate str (not \"int\") to str",
     "output_type": "error",
     "traceback": [
      "\u001b[0;31m---------------------------------------------------------------------------\u001b[0m",
      "\u001b[0;31mTypeError\u001b[0m                                 Traceback (most recent call last)",
      "Cell \u001b[0;32mIn[1], line 3\u001b[0m\n\u001b[1;32m      1\u001b[0m a \u001b[38;5;241m=\u001b[39m \u001b[38;5;124m\"\u001b[39m\u001b[38;5;124m18\u001b[39m\u001b[38;5;124m\"\u001b[39m \u001b[38;5;66;03m#It is in string form\u001b[39;00m\n\u001b[1;32m      2\u001b[0m b \u001b[38;5;241m=\u001b[39m \u001b[38;5;241m6\u001b[39m\n\u001b[0;32m----> 3\u001b[0m \u001b[38;5;28mprint\u001b[39m(\u001b[43ma\u001b[49m\u001b[38;5;241;43m+\u001b[39;49m\u001b[43mb\u001b[49m)\n",
      "\u001b[0;31mTypeError\u001b[0m: can only concatenate str (not \"int\") to str"
     ]
    }
   ],
   "source": [
    "a = \"18\" #It is in string form & Now we have to change this string to integer that follow in next cell\n",
    "b = 6\n",
    "print(a+b)"
   ]
  },
  {
   "cell_type": "code",
   "execution_count": 2,
   "id": "c64ee530-c43e-4b6c-82b8-77e74ad47375",
   "metadata": {},
   "outputs": [
    {
     "name": "stdout",
     "output_type": "stream",
     "text": [
      "24\n"
     ]
    }
   ],
   "source": [
    "print(int(a)+b)"
   ]
  },
  {
   "cell_type": "code",
   "execution_count": null,
   "id": "a51a8e8c-71b0-41d8-b114-65485c2317b1",
   "metadata": {},
   "outputs": [],
   "source": []
  }
 ],
 "metadata": {
  "kernelspec": {
   "display_name": "Python 3 (ipykernel)",
   "language": "python",
   "name": "python3"
  },
  "language_info": {
   "codemirror_mode": {
    "name": "ipython",
    "version": 3
   },
   "file_extension": ".py",
   "mimetype": "text/x-python",
   "name": "python",
   "nbconvert_exporter": "python",
   "pygments_lexer": "ipython3",
   "version": "3.10.8"
  }
 },
 "nbformat": 4,
 "nbformat_minor": 5
}
