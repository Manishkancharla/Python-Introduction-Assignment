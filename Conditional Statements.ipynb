{
 "cells": [
  {
   "cell_type": "markdown",
   "id": "5f2760a1-780e-4b88-8c64-547c5400a5c6",
   "metadata": {},
   "source": [
    "Conditional Statements :- It helps to code decisions on based some pre conditions. There are four types that follows"
   ]
  },
  {
   "cell_type": "code",
   "execution_count": 4,
   "id": "0189d10c-e455-444a-896e-e5a4e973d41c",
   "metadata": {},
   "outputs": [
    {
     "name": "stdout",
     "output_type": "stream",
     "text": [
      "They are similar\n"
     ]
    }
   ],
   "source": [
    "# i) If Statement\n",
    "a = \"Manish\"\n",
    "b = \"Manish\"\n",
    "if a is b:\n",
    "    print(\"They are similar\")"
   ]
  },
  {
   "cell_type": "code",
   "execution_count": 9,
   "id": "d30a4379-d678-4d59-b7eb-8ebb86893bc5",
   "metadata": {},
   "outputs": [
    {
     "name": "stdout",
     "output_type": "stream",
     "text": [
      "It's false\n"
     ]
    }
   ],
   "source": [
    "# ii) If-else Statement \n",
    "a = 18\n",
    "b = 24\n",
    "if a == b:\n",
    "    print(\"It's true\")\n",
    "else:\n",
    "    print(\"It's false\")"
   ]
  },
  {
   "cell_type": "code",
   "execution_count": 6,
   "id": "c42925e0-7ca0-4641-b754-26e5bf71652d",
   "metadata": {},
   "outputs": [
    {
     "name": "stdout",
     "output_type": "stream",
     "text": [
      "South Korea\n"
     ]
    }
   ],
   "source": [
    "# iii) elif Statement\n",
    "a = 100\n",
    "b = 50\n",
    "if a <= b:\n",
    "    print(\"India\")\n",
    "elif a > b:\n",
    "    print(\"South Korea\")\n",
    "else:\n",
    "    print(\"Thailand\")"
   ]
  },
  {
   "cell_type": "code",
   "execution_count": 8,
   "id": "3e574bee-0106-4e29-93b1-b2277b2e6294",
   "metadata": {},
   "outputs": [
    {
     "name": "stdin",
     "output_type": "stream",
     "text": [
      "Please Enter Your Name Manish Kancharla\n",
      "Please Enter Your Email Manishkancharla18@gmail.com\n",
      "Please Enter Your Password 1234567890\n"
     ]
    },
    {
     "name": "stdout",
     "output_type": "stream",
     "text": [
      "Login Successful\n"
     ]
    }
   ],
   "source": [
    "# iv) Nested if statement :- In if statement we can write multiple if and else conditions \n",
    "Name = input(\"Please Enter Your Name\")\n",
    "Email = input(\"Please Enter Your Email\")\n",
    "Password = input(\"Please Enter Your Password\")\n",
    "if Name == \"\":\n",
    "    print(\"Please Enter Valid Name\")\n",
    "    if \"@\" not in Email:\n",
    "        print(\"Please Enter Valid Email\")\n",
    "    else:\n",
    "        if len(Password) < 8:\n",
    "            print(\"Please Enter Valid Password\")\n",
    "else:\n",
    "    print(\"Login Successful\")"
   ]
  },
  {
   "cell_type": "code",
   "execution_count": null,
   "id": "a871d2dd-0292-4cea-8666-a745eefa3782",
   "metadata": {},
   "outputs": [],
   "source": []
  }
 ],
 "metadata": {
  "kernelspec": {
   "display_name": "Python 3 (ipykernel)",
   "language": "python",
   "name": "python3"
  },
  "language_info": {
   "codemirror_mode": {
    "name": "ipython",
    "version": 3
   },
   "file_extension": ".py",
   "mimetype": "text/x-python",
   "name": "python",
   "nbconvert_exporter": "python",
   "pygments_lexer": "ipython3",
   "version": "3.10.8"
  }
 },
 "nbformat": 4,
 "nbformat_minor": 5
}
